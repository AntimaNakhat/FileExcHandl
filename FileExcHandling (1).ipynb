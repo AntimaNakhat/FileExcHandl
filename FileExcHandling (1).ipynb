{
 "cells": [
  {
   "cell_type": "markdown",
   "id": "f76fbe46-8db3-4f79-891d-835d21e67363",
   "metadata": {},
   "source": [
    "# Files & Exceptional Handling Assignment"
   ]
  },
  {
   "cell_type": "markdown",
   "id": "afb27816-b821-4f9a-b1c0-819c53c31617",
   "metadata": {},
   "source": [
    "## 1. Discuss the scenarios where multithreading is preferable to multiprocessing and scenarios where multiprocessing is a better choice."
   ]
  },
  {
   "cell_type": "markdown",
   "id": "a903847d-2488-4bd2-ae9f-1374cafd3eb9",
   "metadata": {},
   "source": [
    "Multithreading is Preferable When:\n",
    "I/O-Bound Tasks:\n",
    "\n",
    "Scenario: When your program spends a lot of time waiting for I/O operations (like reading from disk, network calls, or user input).\n",
    "Example: A web server handling multiple requests simultaneously. Since each request involves I/O operations like database queries or file reads, threads can be used to manage these requests concurrently.\n",
    "Shared Memory:\n",
    "\n",
    "Scenario: When you need to share data between tasks quickly and efficiently, and the overhead of inter-process communication (IPC) would be too high.\n",
    "Example: Real-time applications like a stock trading system where different threads might need to access and update shared data structures in memory rapidly.\n",
    "Lightweight Task Management:\n",
    "\n",
    "Scenario: When you need to manage a large number of lightweight tasks that don't consume a lot of CPU.\n",
    "Example: A GUI application where the main thread handles the user interface, and background threads handle tasks like spell-checking or data loading without freezing the interface.\n",
    "Resource Constraints:\n",
    "\n",
    "Scenario: When you're limited by memory or other system resources, and the overhead of creating new processes is too high.\n",
    "Example: Embedded systems or applications running on devices with limited resources, where threads are more efficient due to lower memory consumption.\n",
    "Multiprocessing is Preferable When:\n",
    "CPU-Bound Tasks:\n",
    "\n",
    "Scenario: When your program performs heavy computations and needs to fully utilize multiple CPU cores.\n",
    "Example: Data processing tasks like image processing, scientific calculations, or machine learning model training where each process can run on a separate core.\n",
    "Avoiding Global Interpreter Lock (GIL):\n",
    "\n",
    "Scenario: In Python, the Global Interpreter Lock (GIL) can be a bottleneck for CPU-bound tasks in a multithreaded program. Multiprocessing avoids this issue.\n",
    "Example: A program that performs large-scale numerical computations in Python, where the GIL would hinder performance if multithreading were used.\n",
    "Process Isolation:\n",
    "\n",
    "Scenario: When tasks need to run in isolated environments to avoid interference with each other, especially if one task crashes or misbehaves.\n",
    "Example: Running different instances of a service, like separate worker processes handling tasks in a distributed system where process failure shouldn't affect other processes.\n",
    "Handling Crashes and Memory Leaks:\n",
    "\n",
    "Scenario: When stability and robustness are crucial, and you want to prevent a memory leak or crash in one task from affecting the entire application.\n",
    "Example: A server application where different user sessions are handled in separate processes to ensure that a failure in one session doesn't crash the entire server."
   ]
  },
  {
   "cell_type": "markdown",
   "id": "241db15f-97fa-49bb-9096-239b2d84a56b",
   "metadata": {},
   "source": [
    "## 2. Describe what a process pool is and how it helps in managing multiple processes efficiently.\n"
   ]
  },
  {
   "cell_type": "markdown",
   "id": "a0f8d7a8-c96b-4f50-b894-f4d9518d30fa",
   "metadata": {},
   "source": [
    "A process pool is a collection of pre-created worker processes that can be reused to perform multiple tasks, improving efficiency and resource management. Here's how it helps in managing multiple processes efficiently:\n",
    "\n",
    "Pre-Initialization:\n",
    "\n",
    "Processes are created and initialized in advance, reducing the overhead of starting a new process for each task.\n",
    "Task Distribution:\n",
    "\n",
    "Tasks are distributed among the available worker processes, allowing for concurrent execution and better utilization of CPU cores.\n",
    "Load Balancing:\n",
    "\n",
    "The process pool manages the distribution of tasks to ensure that no single process is overwhelmed, balancing the load across all available workers.\n",
    "Resource Management:\n",
    "\n",
    "Reusing existing processes minimizes the overhead associated with process creation and destruction, leading to more efficient use of system resources.\n",
    "Concurrency Control:\n",
    "\n",
    "The pool limits the number of concurrent processes, preventing excessive resource usage and potential system overload.\n",
    "Error Handling:\n",
    "\n",
    "The pool can handle errors and failures within worker processes, allowing for graceful recovery and retrying tasks if needed.\n",
    "Simplified Management:\n",
    "\n",
    "Centralized management of worker processes simplifies the coordination and monitoring of tasks, improving overall efficiency."
   ]
  },
  {
   "cell_type": "markdown",
   "id": "1ddd7115-1bd5-420f-b7ff-a6533db85663",
   "metadata": {},
   "source": [
    "## 3. Explain what multiprocessing is and why it is used in Python programs.\n"
   ]
  },
  {
   "cell_type": "markdown",
   "id": "f0ca1470-f879-4030-96b1-ec3739644861",
   "metadata": {},
   "source": [
    "Multiprocessing is a technique that allows a program to execute multiple processes concurrently. Each process runs independently with its own memory space.\n",
    "\n",
    "Purpose:\n",
    "\n",
    "- Parallelism: Utilizes multiple CPU cores to execute tasks simultaneously, speeding up CPU-bound operations and enhancing performance.\n",
    "- Isolation: Ensures that processes run in separate memory spaces, so issues in one process (like crashes or memory leaks) do not affect others.\n",
    "\n",
    "Why Used in Python:\n",
    "\n",
    "- Global Interpreter Lock (GIL): Python’s GIL limits the execution of multiple threads in a single process, making multithreading less effective for CPU-bound tasks. Multiprocessing bypasses this limitation by using separate processes.\n",
    "- Improved Performance: Enables true parallelism for CPU-bound tasks, such as data processing or computationally intensive operations.\n",
    "- Fault Tolerance: Isolates processes to prevent failures from propagating, thus increasing the robustness of applications.\n",
    "\n",
    "Key Components:\n",
    "\n",
    "- multiprocessing Module: Provides classes and functions to create and manage processes, such as Process, Queue, and Pool.\n",
    "- Process Creation: Each process has its own Python interpreter and memory space, allowing independent execution and avoiding GIL restrictions.\n",
    "\n",
    "\n",
    "\n",
    "\n",
    "\n",
    "\n"
   ]
  },
  {
   "cell_type": "markdown",
   "id": "982bfbcd-71ff-48f9-9723-42422d3b5eb9",
   "metadata": {},
   "source": [
    "## 4. Write a Python program using multithreading where one thread adds numbers to a list, and another thread removes numbers from the list. Implement a mechanism to avoid race conditions using threading.Lock."
   ]
  },
  {
   "cell_type": "code",
   "execution_count": 1,
   "id": "c1ea9885-bd00-4ddc-a274-3f925aeb206f",
   "metadata": {},
   "outputs": [
    {
     "name": "stdout",
     "output_type": "stream",
     "text": [
      "Added 0 to list. Current list: [0]\n",
      "Added 1 to list. Current list: [0, 1]\n",
      "Removed 0 from list. Current list: [1]\n",
      "Added 2 to list. Current list: [1, 2]\n",
      "Removed 1 from list. Current list: [2]\n",
      "Added 3 to list. Current list: [2, 3]\n",
      "Removed 2 from list. Current list: [3]\n",
      "Added 4 to list. Current list: [3, 4]\n",
      "Removed 3 from list. Current list: [4]\n",
      "Added 5 to list. Current list: [4, 5]\n",
      "Removed 4 from list. Current list: [5]\n",
      "Added 6 to list. Current list: [5, 6]\n",
      "Removed 5 from list. Current list: [6]\n",
      "Added 7 to list. Current list: [6, 7]\n",
      "Removed 6 from list. Current list: [7]\n",
      "Added 8 to list. Current list: [7, 8]\n",
      "Removed 7 from list. Current list: [8]\n",
      "Added 9 to list. Current list: [8, 9]\n",
      "Removed 8 from list. Current list: [9]\n",
      "Removed 9 from list. Current list: []\n",
      "Final list: []\n"
     ]
    }
   ],
   "source": [
    "import threading\n",
    "import time\n",
    "\n",
    "shared_list = []\n",
    "lock = threading.Lock()\n",
    "\n",
    "def add_numbers():\n",
    "    global shared_list\n",
    "    for i in range(10):\n",
    "        with lock:  \n",
    "            shared_list.append(i)\n",
    "            print(f\"Added {i} to list. Current list: {shared_list}\")\n",
    "        time.sleep(0.1)  \n",
    "\n",
    "def remove_numbers():\n",
    "    global shared_list\n",
    "    for _ in range(10):\n",
    "        time.sleep(0.1)  \n",
    "        with lock:  \n",
    "            if shared_list:\n",
    "                removed = shared_list.pop(0)\n",
    "                print(f\"Removed {removed} from list. Current list: {shared_list}\")\n",
    "\n",
    "thread1 = threading.Thread(target=add_numbers)\n",
    "thread2 = threading.Thread(target=remove_numbers)\n",
    "\n",
    "thread1.start()\n",
    "thread2.start()\n",
    "\n",
    "thread1.join()\n",
    "thread2.join()\n",
    "\n",
    "print(\"Final list:\", shared_list)\n"
   ]
  },
  {
   "cell_type": "markdown",
   "id": "4b4d5781-4515-4974-8121-caf170836127",
   "metadata": {},
   "source": [
    "## 5. Describe the methods and tools available in Python for safely sharing data between threads and processes."
   ]
  },
  {
   "cell_type": "raw",
   "id": "0ab1627e-adfd-4441-841b-165246fc2cf2",
   "metadata": {},
   "source": [
    "import threading\n",
    "lock = threading.Lock()\n",
    "\n",
    "def thread_function():\n",
    "    with lock:\n",
    "        # Critical section of code\n"
   ]
  },
  {
   "cell_type": "raw",
   "id": "93cb1d11-2adb-4d12-b056-bdc8534eaf54",
   "metadata": {},
   "source": [
    "import threading\n",
    "condition = threading.Condition()\n",
    "\n",
    "def thread_function():\n",
    "    with condition:\n",
    "        condition.wait()  # Wait for the condition\n",
    "        # Proceed when the condition is met\n"
   ]
  },
  {
   "cell_type": "raw",
   "id": "0fd4db4c-798a-4093-9563-cb3da419518a",
   "metadata": {},
   "source": [
    "from multiprocessing import Queue, Process\n",
    "\n",
    "def process_function(queue):\n",
    "    queue.put('data')  # Put data into the queue\n",
    "\n",
    "queue = Queue()\n",
    "p = Process(target=process_function, args=(queue,))\n",
    "p.start()\n",
    "data = queue.get()  # Get data from the queue\n",
    "p.join()\n"
   ]
  },
  {
   "cell_type": "raw",
   "id": "df075cab-0260-43ec-a74c-bf062f9f6828",
   "metadata": {},
   "source": [
    "from multiprocessing import Lock, Process\n",
    "\n",
    "def process_function(lock):\n",
    "    with lock:\n",
    "        # Critical section of code\n",
    "\n",
    "lock = Lock()\n",
    "p = Process(target=process_function, args=(lock,))\n",
    "p.start()\n",
    "p.join()\n"
   ]
  },
  {
   "cell_type": "code",
   "execution_count": 3,
   "id": "05497e7f-fc23-4534-b088-286d69b7bcb5",
   "metadata": {},
   "outputs": [],
   "source": [
    "from multiprocessing import Value, Array, Process\n",
    "\n",
    "def process_function(val, arr):\n",
    "    val.value += 1\n",
    "    arr[0] = 1\n",
    "\n",
    "val = Value('i', 0)\n",
    "arr = Array('i', [0, 0, 0])\n",
    "p = Process(target=process_function, args=(val, arr))\n",
    "p.start()\n",
    "p.join()\n"
   ]
  },
  {
   "cell_type": "markdown",
   "id": "945f38a1-253b-4582-b75a-655e9a4b37a3",
   "metadata": {},
   "source": [
    "## 6. Discuss why it’s crucial to handle exceptions in concurrent programs and the techniques available for doing so."
   ]
  },
  {
   "cell_type": "markdown",
   "id": "0ee35c6d-0b91-47e9-9cea-0b4c251c1e23",
   "metadata": {},
   "source": [
    "Importance of Handling Exceptions in Concurrent Programs:\n",
    "\n",
    "- Prevents Application Crashes:Unhandled exceptions in concurrent tasks can cause the entire program to crash, affecting stability and user experience.\n",
    "\n",
    "- Maintains Data Integrity:Exceptions in one thread or process might corrupt shared data or resources, leading to inconsistencies.\n",
    "\n",
    "- Ensures Robustness:Proper exception handling ensures that individual tasks or threads can fail gracefully without affecting the overall system.\n",
    "\n",
    "- Facilitates Debugging:Handling exceptions provides better insights into errors, making it easier to diagnose and fix issues in concurrent execution.\n",
    "\n",
    "- Resource Management:Proper exception handling helps in cleaning up resources like file handles, network connections, and memory, preventing leaks and resource exhaustion.\n",
    "\n",
    "Techniques for Handling Exceptions:\n",
    "\n",
    "- Try-Except Blocks:Use try-except blocks within threads to catch and handle exceptions locally.\n",
    "\n",
    "- Exception Propagation:Ensure exceptions are propagated to the main thread or process, where they can be logged and managed centrally.\n",
    "\n",
    "- Thread/Process-Specific Error Handling:Implement custom error handlers for each thread or process to manage exceptions based on specific contexts.\n",
    "\n",
    "- Logging:Implement logging within exception handlers to capture detailed information about errors for later analysis.\n",
    "\n",
    "- Synchronization Mechanisms:Use locks, semaphores, or other synchronization mechanisms to manage access to shared resources and prevent race conditions that could lead to exceptions.\n",
    "\n",
    "\n",
    "\n",
    "\n",
    "\n",
    "\n"
   ]
  },
  {
   "cell_type": "markdown",
   "id": "4d951a65-3893-44b3-b5f3-611d5d82098f",
   "metadata": {},
   "source": [
    "## 7. Create a program that uses a thread pool to calculate the factorial of numbers from 1 to 10 concurrently. Use concurrent.futures.ThreadPoolExecutor to manage the threads."
   ]
  },
  {
   "cell_type": "code",
   "execution_count": 4,
   "id": "11dcac15-51b4-4c9a-849b-bd808b7f47e4",
   "metadata": {},
   "outputs": [
    {
     "name": "stdout",
     "output_type": "stream",
     "text": [
      "Factorial of 6 is 720\n",
      "Factorial of 1 is 1\n",
      "Factorial of 10 is 3628800\n",
      "Factorial of 9 is 362880\n",
      "Factorial of 8 is 40320\n",
      "Factorial of 5 is 120\n",
      "Factorial of 2 is 2\n",
      "Factorial of 7 is 5040\n",
      "Factorial of 4 is 24\n",
      "Factorial of 3 is 6\n"
     ]
    }
   ],
   "source": [
    "import concurrent.futures\n",
    "import math\n",
    "\n",
    "def factorial(n):\n",
    "    \n",
    "    return math.factorial(n)\n",
    "\n",
    "def main():\n",
    "    numbers = list(range(1, 11))  # Numbers from 1 to 10\n",
    "\n",
    "   \n",
    "    with concurrent.futures.ThreadPoolExecutor() as executor:\n",
    "        \n",
    "        futures = [executor.submit(factorial, num) for num in numbers]\n",
    "\n",
    "        \n",
    "        for future in concurrent.futures.as_completed(futures):\n",
    "            num = numbers[futures.index(future)]  \n",
    "            result = future.result()  \n",
    "            print(f\"Factorial of {num} is {result}\")\n",
    "\n",
    "if __name__ == \"__main__\":\n",
    "    main()\n"
   ]
  },
  {
   "cell_type": "markdown",
   "id": "f934cecf-1402-4d8b-a767-87ca3b13c04c",
   "metadata": {},
   "source": [
    "## 8. Create a Python program that uses multiprocessing.Pool to compute the square of numbers from 1 to 10 in parallel. Measure the time taken to perform this computation using a pool of different sizes (e.g., 2, 4, 8 processes)."
   ]
  },
  {
   "cell_type": "code",
   "execution_count": 5,
   "id": "27aa3837-ebb3-4f9d-8a33-3aac8e985f4b",
   "metadata": {},
   "outputs": [
    {
     "name": "stdout",
     "output_type": "stream",
     "text": [
      "Pool size: 2, Time taken: 0.0284 seconds\n",
      "Results: [1, 4, 9, 16, 25, 36, 49, 64, 81, 100]\n",
      "\n",
      "Pool size: 4, Time taken: 0.0402 seconds\n",
      "Results: [1, 4, 9, 16, 25, 36, 49, 64, 81, 100]\n",
      "\n",
      "Pool size: 8, Time taken: 0.0705 seconds\n",
      "Results: [1, 4, 9, 16, 25, 36, 49, 64, 81, 100]\n",
      "\n"
     ]
    }
   ],
   "source": [
    "import multiprocessing\n",
    "import time\n",
    "\n",
    "def square(n):\n",
    "   \n",
    "    return n * n\n",
    "\n",
    "def compute_squares(pool_size):\n",
    "    \n",
    "    numbers = list(range(1, 11))\n",
    "    \n",
    "    start_time = time.time()\n",
    "    \n",
    "    with multiprocessing.Pool(processes=pool_size) as pool:\n",
    "        results = pool.map(square, numbers)\n",
    "    \n",
    "    end_time = time.time()\n",
    "    time_taken = end_time - start_time\n",
    "    \n",
    "    print(f\"Pool size: {pool_size}, Time taken: {time_taken:.4f} seconds\")\n",
    "    print(f\"Results: {results}\\n\")\n",
    "\n",
    "def main():\n",
    "    pool_sizes = [2, 4, 8]\n",
    "    for pool_size in pool_sizes:\n",
    "        compute_squares(pool_size)\n",
    "\n",
    "if __name__ == \"__main__\":\n",
    "    main()\n"
   ]
  },
  {
   "cell_type": "code",
   "execution_count": null,
   "id": "bfecb5d2-a0cb-44aa-92fb-0dda69f3f743",
   "metadata": {},
   "outputs": [],
   "source": []
  }
 ],
 "metadata": {
  "kernelspec": {
   "display_name": "Python 3 (ipykernel)",
   "language": "python",
   "name": "python3"
  },
  "language_info": {
   "codemirror_mode": {
    "name": "ipython",
    "version": 3
   },
   "file_extension": ".py",
   "mimetype": "text/x-python",
   "name": "python",
   "nbconvert_exporter": "python",
   "pygments_lexer": "ipython3",
   "version": "3.10.8"
  }
 },
 "nbformat": 4,
 "nbformat_minor": 5
}
